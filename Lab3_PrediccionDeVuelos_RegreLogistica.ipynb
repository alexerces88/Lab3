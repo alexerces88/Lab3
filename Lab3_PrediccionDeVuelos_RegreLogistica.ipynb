{
  "cells": [
    {
      "cell_type": "code",
      "execution_count": 10,
      "metadata": {
        "id": "qUxgZvq33-ID"
      },
      "outputs": [],
      "source": [
        "# utilizado para manejos de directorios y rutas\n",
        "import os\n",
        "\n",
        "# Computacion vectorial y cientifica para python\n",
        "import numpy as np\n",
        "\n",
        "# Librerias para graficación (trazado de gráficos)\n",
        "from matplotlib import pyplot\n",
        "from mpl_toolkits.mplot3d import Axes3D  # Necesario para graficar superficies 3D\n",
        "\n",
        "# llama a matplotlib a embeber graficas dentro de los cuadernillos\n",
        "%matplotlib inline"
      ]
    },
    {
      "cell_type": "code",
      "execution_count": 11,
      "metadata": {
        "id": "3zeLCpwjiQCT"
      },
      "outputs": [],
      "source": [
        "import pandas as pd\n",
        "from sklearn.preprocessing import LabelEncoder\n",
        "from datetime import datetime"
      ]
    },
    {
      "cell_type": "code",
      "source": [
        "from google.colab import drive\n",
        "drive.mount('/content/drive')"
      ],
      "metadata": {
        "colab": {
          "base_uri": "https://localhost:8080/"
        },
        "id": "YMRIvHxrSIV0",
        "outputId": "16caea0a-95c2-4107-91cc-dce48adb525c"
      },
      "execution_count": 12,
      "outputs": [
        {
          "output_type": "stream",
          "name": "stdout",
          "text": [
            "Drive already mounted at /content/drive; to attempt to forcibly remount, call drive.mount(\"/content/drive\", force_remount=True).\n"
          ]
        }
      ]
    },
    {
      "cell_type": "code",
      "execution_count": 18,
      "metadata": {
        "id": "V0ZXOA-6iUmV"
      },
      "outputs": [],
      "source": [
        "#Carga de dataset\n",
        "data = pd.read_csv('/content/drive/MyDrive/Colab Notebooks/Clean_Dataset.csv')"
      ]
    },
    {
      "cell_type": "code",
      "execution_count": 19,
      "metadata": {
        "colab": {
          "base_uri": "https://localhost:8080/"
        },
        "id": "h325dVhXicrs",
        "outputId": "0dc30f75-7f89-4548-b838-094544dabc4f"
      },
      "outputs": [
        {
          "output_type": "stream",
          "name": "stdout",
          "text": [
            "        Unnamed: 0   airline   flight source_city departure_time stops  \\\n",
            "0                0  SpiceJet  SG-8709       Delhi        Evening  zero   \n",
            "1                1  SpiceJet  SG-8157       Delhi  Early_Morning  zero   \n",
            "2                2   AirAsia   I5-764       Delhi  Early_Morning  zero   \n",
            "3                3   Vistara   UK-995       Delhi        Morning  zero   \n",
            "4                4   Vistara   UK-963       Delhi        Morning  zero   \n",
            "...            ...       ...      ...         ...            ...   ...   \n",
            "300148      300148   Vistara   UK-822     Chennai        Morning   one   \n",
            "300149      300149   Vistara   UK-826     Chennai      Afternoon   one   \n",
            "300150      300150   Vistara   UK-832     Chennai  Early_Morning   one   \n",
            "300151      300151   Vistara   UK-828     Chennai  Early_Morning   one   \n",
            "300152      300152   Vistara   UK-822     Chennai        Morning   one   \n",
            "\n",
            "         arrival_time destination_city     class  duration  days_left  price  \n",
            "0               Night           Mumbai   Economy      2.17          1   5953  \n",
            "1             Morning           Mumbai   Economy      2.33          1   5953  \n",
            "2       Early_Morning           Mumbai   Economy      2.17          1   5956  \n",
            "3           Afternoon           Mumbai   Economy      2.25          1   5955  \n",
            "4             Morning           Mumbai   Economy      2.33          1   5955  \n",
            "...               ...              ...       ...       ...        ...    ...  \n",
            "300148        Evening        Hyderabad  Business     10.08         49  69265  \n",
            "300149          Night        Hyderabad  Business     10.42         49  77105  \n",
            "300150          Night        Hyderabad  Business     13.83         49  79099  \n",
            "300151        Evening        Hyderabad  Business     10.00         49  81585  \n",
            "300152        Evening        Hyderabad  Business     10.08         49  81585  \n",
            "\n",
            "[300153 rows x 12 columns]\n"
          ]
        }
      ],
      "source": [
        "print(data)"
      ]
    },
    {
      "cell_type": "code",
      "execution_count": 20,
      "metadata": {
        "colab": {
          "base_uri": "https://localhost:8080/"
        },
        "id": "ZoYIJwRyifh-",
        "outputId": "9d9c77b3-6aca-4b22-962f-7f3b1245b4ab"
      },
      "outputs": [
        {
          "output_type": "stream",
          "name": "stdout",
          "text": [
            "<class 'pandas.core.frame.DataFrame'>\n",
            "RangeIndex: 300153 entries, 0 to 300152\n",
            "Data columns (total 12 columns):\n",
            " #   Column            Non-Null Count   Dtype  \n",
            "---  ------            --------------   -----  \n",
            " 0   Unnamed: 0        300153 non-null  int64  \n",
            " 1   airline           300153 non-null  object \n",
            " 2   flight            300153 non-null  object \n",
            " 3   source_city       300153 non-null  object \n",
            " 4   departure_time    300153 non-null  object \n",
            " 5   stops             300153 non-null  object \n",
            " 6   arrival_time      300153 non-null  object \n",
            " 7   destination_city  300153 non-null  object \n",
            " 8   class             300153 non-null  object \n",
            " 9   duration          300153 non-null  float64\n",
            " 10  days_left         300153 non-null  int64  \n",
            " 11  price             300153 non-null  int64  \n",
            "dtypes: float64(1), int64(3), object(8)\n",
            "memory usage: 27.5+ MB\n"
          ]
        }
      ],
      "source": [
        "data.info()"
      ]
    },
    {
      "cell_type": "code",
      "execution_count": 21,
      "metadata": {
        "id": "sFmWfM7Mjn9Z"
      },
      "outputs": [],
      "source": [
        "#variables categoricas\n",
        "columnas_categoricas = data.select_dtypes(include=['object']).columns\n",
        "#variables fechas\n",
        "columnas_fechas = data.select_dtypes(include=['datetime64']).columns"
      ]
    },
    {
      "cell_type": "code",
      "execution_count": 22,
      "metadata": {
        "id": "GcxRaOoqkOyD"
      },
      "outputs": [],
      "source": [
        "#Procesamiento de frases o palabras\n",
        "for columna in columnas_categoricas:\n",
        "  le = LabelEncoder()\n",
        "  data[columna] = le.fit_transform(data[columna])"
      ]
    },
    {
      "cell_type": "code",
      "execution_count": 23,
      "metadata": {
        "id": "hVuep7WXkQvA"
      },
      "outputs": [],
      "source": [
        "#Fechas a numeros\n",
        "for columna in columnas_fechas:\n",
        "  data[columna] = pd.to_numeric(data[columna].map(datetime.timestamp))"
      ]
    },
    {
      "cell_type": "code",
      "execution_count": 24,
      "metadata": {
        "colab": {
          "base_uri": "https://localhost:8080/"
        },
        "id": "vHzN_Uj0kS96",
        "outputId": "53d72611-c5b6-438f-ec8a-fd403040b838"
      },
      "outputs": [
        {
          "output_type": "stream",
          "name": "stdout",
          "text": [
            "        Unnamed: 0  airline  flight  source_city  departure_time  stops  \\\n",
            "0                0        4    1408            2               2      2   \n",
            "1                1        4    1387            2               1      2   \n",
            "2                2        0    1213            2               1      2   \n",
            "3                3        5    1559            2               4      2   \n",
            "4                4        5    1549            2               4      2   \n",
            "...            ...      ...     ...          ...             ...    ...   \n",
            "300148      300148        5    1477            1               4      0   \n",
            "300149      300149        5    1481            1               0      0   \n",
            "300150      300150        5    1486            1               1      0   \n",
            "300151      300151        5    1483            1               1      0   \n",
            "300152      300152        5    1477            1               4      0   \n",
            "\n",
            "        arrival_time  destination_city  class  duration  days_left  price  \n",
            "0                  5                 5      1      2.17          1   5953  \n",
            "1                  4                 5      1      2.33          1   5953  \n",
            "2                  1                 5      1      2.17          1   5956  \n",
            "3                  0                 5      1      2.25          1   5955  \n",
            "4                  4                 5      1      2.33          1   5955  \n",
            "...              ...               ...    ...       ...        ...    ...  \n",
            "300148             2                 3      0     10.08         49  69265  \n",
            "300149             5                 3      0     10.42         49  77105  \n",
            "300150             5                 3      0     13.83         49  79099  \n",
            "300151             2                 3      0     10.00         49  81585  \n",
            "300152             2                 3      0     10.08         49  81585  \n",
            "\n",
            "[300153 rows x 12 columns]\n"
          ]
        }
      ],
      "source": [
        "#resultado\n",
        "print(data)"
      ]
    },
    {
      "cell_type": "code",
      "execution_count": 25,
      "metadata": {
        "colab": {
          "base_uri": "https://localhost:8080/"
        },
        "id": "tJ9GFsACksGy",
        "outputId": "c52a12b0-4c74-4c54-da47-9909617660f9"
      },
      "outputs": [
        {
          "output_type": "stream",
          "name": "stdout",
          "text": [
            "<class 'pandas.core.frame.DataFrame'>\n",
            "RangeIndex: 300153 entries, 0 to 300152\n",
            "Data columns (total 12 columns):\n",
            " #   Column            Non-Null Count   Dtype  \n",
            "---  ------            --------------   -----  \n",
            " 0   Unnamed: 0        300153 non-null  int64  \n",
            " 1   airline           300153 non-null  int64  \n",
            " 2   flight            300153 non-null  int64  \n",
            " 3   source_city       300153 non-null  int64  \n",
            " 4   departure_time    300153 non-null  int64  \n",
            " 5   stops             300153 non-null  int64  \n",
            " 6   arrival_time      300153 non-null  int64  \n",
            " 7   destination_city  300153 non-null  int64  \n",
            " 8   class             300153 non-null  int64  \n",
            " 9   duration          300153 non-null  float64\n",
            " 10  days_left         300153 non-null  int64  \n",
            " 11  price             300153 non-null  int64  \n",
            "dtypes: float64(1), int64(11)\n",
            "memory usage: 27.5 MB\n"
          ]
        }
      ],
      "source": [
        "data.info()"
      ]
    },
    {
      "cell_type": "code",
      "execution_count": 29,
      "metadata": {
        "id": "YuuRUXgCwvZ_"
      },
      "outputs": [],
      "source": [
        "# Lectura de Datos\n",
        "X = data.iloc[:, :12]\n",
        "y = data.iloc[:, 8]\n",
        "m = y.size"
      ]
    },
    {
      "cell_type": "code",
      "execution_count": 30,
      "metadata": {
        "colab": {
          "base_uri": "https://localhost:8080/"
        },
        "id": "x1NBC6A6xFoC",
        "outputId": "42486e5e-5100-4608-9792-d8a98eb2add3"
      },
      "outputs": [
        {
          "output_type": "stream",
          "name": "stdout",
          "text": [
            "        Unnamed: 0  airline  flight  source_city  departure_time  stops  \\\n",
            "0                0        4    1408            2               2      2   \n",
            "1                1        4    1387            2               1      2   \n",
            "2                2        0    1213            2               1      2   \n",
            "3                3        5    1559            2               4      2   \n",
            "4                4        5    1549            2               4      2   \n",
            "...            ...      ...     ...          ...             ...    ...   \n",
            "300148      300148        5    1477            1               4      0   \n",
            "300149      300149        5    1481            1               0      0   \n",
            "300150      300150        5    1486            1               1      0   \n",
            "300151      300151        5    1483            1               1      0   \n",
            "300152      300152        5    1477            1               4      0   \n",
            "\n",
            "        arrival_time  destination_city  class  duration  days_left  price  \n",
            "0                  5                 5      1      2.17          1   5953  \n",
            "1                  4                 5      1      2.33          1   5953  \n",
            "2                  1                 5      1      2.17          1   5956  \n",
            "3                  0                 5      1      2.25          1   5955  \n",
            "4                  4                 5      1      2.33          1   5955  \n",
            "...              ...               ...    ...       ...        ...    ...  \n",
            "300148             2                 3      0     10.08         49  69265  \n",
            "300149             5                 3      0     10.42         49  77105  \n",
            "300150             5                 3      0     13.83         49  79099  \n",
            "300151             2                 3      0     10.00         49  81585  \n",
            "300152             2                 3      0     10.08         49  81585  \n",
            "\n",
            "[300153 rows x 12 columns]\n",
            "*************************\n",
            "0         1\n",
            "1         1\n",
            "2         1\n",
            "3         1\n",
            "4         1\n",
            "         ..\n",
            "300148    0\n",
            "300149    0\n",
            "300150    0\n",
            "300151    0\n",
            "300152    0\n",
            "Name: class, Length: 300153, dtype: int64\n"
          ]
        }
      ],
      "source": [
        "print(X)\n",
        "print('*'*25)\n",
        "print(y)"
      ]
    },
    {
      "cell_type": "code",
      "source": [
        "fila_deseada = 2\n",
        "if fila_deseada < len(data):\n",
        "  fila_completa = data.iloc[fila_deseada].to_numpy()\n",
        "  print (fila_completa)\n",
        "else:\n",
        "    print (\"la fila no existe\")\n"
      ],
      "metadata": {
        "colab": {
          "base_uri": "https://localhost:8080/"
        },
        "id": "tI0enp3j6NNS",
        "outputId": "0f777d14-ff20-4a4c-d089-a4769e463c9f"
      },
      "execution_count": 31,
      "outputs": [
        {
          "output_type": "stream",
          "name": "stdout",
          "text": [
            "[2.000e+00 0.000e+00 1.213e+03 2.000e+00 1.000e+00 2.000e+00 1.000e+00\n",
            " 5.000e+00 1.000e+00 2.170e+00 1.000e+00 5.956e+03]\n"
          ]
        }
      ]
    },
    {
      "cell_type": "code",
      "execution_count": 32,
      "metadata": {
        "id": "DrrFytt2gkI8"
      },
      "outputs": [],
      "source": [
        "def  featureNormalize(X):\n",
        "    X_norm = X.copy()\n",
        "    mu = np.zeros(X.shape[1])\n",
        "    sigma = np.zeros(X.shape[1])\n",
        "\n",
        "    mu = np.mean(X, axis = 0)\n",
        "    sigma = np.std(X, axis = 0)\n",
        "    X_norm = (X - mu) / sigma\n",
        "\n",
        "    return X_norm, mu, sigma\n",
        "\n",
        "# Normaliza entre -0.5 y 0.5 (revisar) porque se dan valores negativos y postivos"
      ]
    },
    {
      "cell_type": "code",
      "execution_count": 33,
      "metadata": {
        "colab": {
          "base_uri": "https://localhost:8080/"
        },
        "id": "MhHhItqc4YLy",
        "outputId": "8bdd985a-bb81-4694-cff5-aaa8b80d3f7e"
      },
      "outputs": [
        {
          "output_type": "stream",
          "name": "stdout",
          "text": [
            "        Unnamed: 0  airline  flight  source_city  departure_time  stops  \\\n",
            "0                0        4    1408            2               2      2   \n",
            "1                1        4    1387            2               1      2   \n",
            "2                2        0    1213            2               1      2   \n",
            "3                3        5    1559            2               4      2   \n",
            "4                4        5    1549            2               4      2   \n",
            "...            ...      ...     ...          ...             ...    ...   \n",
            "300148      300148        5    1477            1               4      0   \n",
            "300149      300149        5    1481            1               0      0   \n",
            "300150      300150        5    1486            1               1      0   \n",
            "300151      300151        5    1483            1               1      0   \n",
            "300152      300152        5    1477            1               4      0   \n",
            "\n",
            "        arrival_time  destination_city  class  duration  days_left  price  \n",
            "0                  5                 5      1      2.17          1   5953  \n",
            "1                  4                 5      1      2.33          1   5953  \n",
            "2                  1                 5      1      2.17          1   5956  \n",
            "3                  0                 5      1      2.25          1   5955  \n",
            "4                  4                 5      1      2.33          1   5955  \n",
            "...              ...               ...    ...       ...        ...    ...  \n",
            "300148             2                 3      0     10.08         49  69265  \n",
            "300149             5                 3      0     10.42         49  77105  \n",
            "300150             5                 3      0     13.83         49  79099  \n",
            "300151             2                 3      0     10.00         49  81585  \n",
            "300152             2                 3      0     10.08         49  81585  \n",
            "\n",
            "[300153 rows x 12 columns]\n",
            "Media calculada: Unnamed: 0          150076.000000\n",
            "airline                  3.104873\n",
            "flight                1088.336618\n",
            "source_city              2.577592\n",
            "departure_time           2.417337\n",
            "stops                    0.284168\n",
            "arrival_time             3.074086\n",
            "destination_city         2.588303\n",
            "class                    0.688536\n",
            "duration                12.221021\n",
            "days_left               26.004751\n",
            "price                20889.660523\n",
            "dtype: float64\n",
            "Desviación estandar calculada: Unnamed: 0          86646.707674\n",
            "airline                 1.833262\n",
            "flight                426.694110\n",
            "source_city             1.751759\n",
            "departure_time          1.754273\n",
            "stops                   0.665824\n",
            "arrival_time            1.741663\n",
            "destination_city        1.744540\n",
            "class                   0.463092\n",
            "duration                7.191985\n",
            "days_left              13.560981\n",
            "price               22697.729556\n",
            "dtype: float64\n",
            "        Unnamed: 0   airline    flight  source_city  departure_time     stops  \\\n",
            "0        -1.732045  0.488270  0.749163    -0.329721       -0.237897  2.577006   \n",
            "1        -1.732033  0.488270  0.699947    -0.329721       -0.807934  2.577006   \n",
            "2        -1.732022 -1.693633  0.292161    -0.329721       -0.807934  2.577006   \n",
            "3        -1.732010  1.033746  1.103046    -0.329721        0.902176  2.577006   \n",
            "4        -1.731999  1.033746  1.079610    -0.329721        0.902176  2.577006   \n",
            "...            ...       ...       ...          ...             ...       ...   \n",
            "300148    1.731999  1.033746  0.910871    -0.900576        0.902176 -0.426792   \n",
            "300149    1.732010  1.033746  0.920246    -0.900576       -1.377971 -0.426792   \n",
            "300150    1.732022  1.033746  0.931964    -0.900576       -0.807934 -0.426792   \n",
            "300151    1.732033  1.033746  0.924933    -0.900576       -0.807934 -0.426792   \n",
            "300152    1.732045  1.033746  0.910871    -0.900576        0.902176 -0.426792   \n",
            "\n",
            "        arrival_time  destination_city     class  duration  days_left  \\\n",
            "0           1.105790          1.382425  0.672576 -1.397531  -1.843875   \n",
            "1           0.531627          1.382425  0.672576 -1.375284  -1.843875   \n",
            "2          -1.190865          1.382425  0.672576 -1.397531  -1.843875   \n",
            "3          -1.765028          1.382425  0.672576 -1.386407  -1.843875   \n",
            "4           0.531627          1.382425  0.672576 -1.375284  -1.843875   \n",
            "...              ...               ...       ...       ...        ...   \n",
            "300148     -0.616701          0.235992 -1.486822 -0.297695   1.695692   \n",
            "300149      1.105790          0.235992 -1.486822 -0.250421   1.695692   \n",
            "300150      1.105790          0.235992 -1.486822  0.223718   1.695692   \n",
            "300151     -0.616701          0.235992 -1.486822 -0.308819   1.695692   \n",
            "300152     -0.616701          0.235992 -1.486822 -0.297695   1.695692   \n",
            "\n",
            "           price  \n",
            "0      -0.658068  \n",
            "1      -0.658068  \n",
            "2      -0.657936  \n",
            "3      -0.657980  \n",
            "4      -0.657980  \n",
            "...          ...  \n",
            "300148  2.131285  \n",
            "300149  2.476694  \n",
            "300150  2.564545  \n",
            "300151  2.674071  \n",
            "300152  2.674071  \n",
            "\n",
            "[300153 rows x 12 columns]\n"
          ]
        }
      ],
      "source": [
        "# llama featureNormalize con los datos cargados\n",
        "X_norm, mu, sigma = featureNormalize(X)\n",
        "\n",
        "print(X)\n",
        "print('Media calculada:', mu)\n",
        "print('Desviación estandar calculada:', sigma)\n",
        "print(X_norm)"
      ]
    },
    {
      "cell_type": "code",
      "source": [
        "def sigmoid(z):\n",
        "  #calcula la sigmoide de una entrada z, convierte la entrada a una entrada numpy\n",
        "  z = np.array(z)\n",
        "  g = np.zeros(z.shape)\n",
        "  g = 1/(1+np.exp(-z))\n",
        "  return g\n"
      ],
      "metadata": {
        "id": "wYrB7D_bYl6G"
      },
      "execution_count": 34,
      "outputs": []
    },
    {
      "cell_type": "code",
      "source": [
        "#prueba para sigmoid\n",
        "z = 0\n",
        "g = sigmoid(z)\n",
        "print ('g(',z,') = ', g)"
      ],
      "metadata": {
        "colab": {
          "base_uri": "https://localhost:8080/"
        },
        "id": "zPzdMKh9ZA0H",
        "outputId": "57276d20-d8f0-4546-ab8b-12631fd47f8f"
      },
      "execution_count": 35,
      "outputs": [
        {
          "output_type": "stream",
          "name": "stdout",
          "text": [
            "g( 0 ) =  0.5\n"
          ]
        }
      ]
    },
    {
      "cell_type": "code",
      "execution_count": 36,
      "metadata": {
        "id": "EB4cCmdm4bxJ"
      },
      "outputs": [],
      "source": [
        "# Añade el termino de interseccion a X\n",
        "m,n = X.shape\n",
        "# (Columna de unos para X0)\n",
        "X = np.concatenate([np.ones((m, 1)), X_norm], axis=1)"
      ]
    },
    {
      "cell_type": "code",
      "execution_count": 37,
      "metadata": {
        "colab": {
          "base_uri": "https://localhost:8080/"
        },
        "id": "jxdWrQDC4fcD",
        "outputId": "b924ca6a-c99b-47d7-b84c-c226bc46f1fc"
      },
      "outputs": [
        {
          "output_type": "stream",
          "name": "stdout",
          "text": [
            "[[ 1.         -1.73204504  0.48827006 ... -1.39753079 -1.84387477\n",
            "  -0.65806849]\n",
            " [ 1.         -1.7320335   0.48827006 ... -1.3752838  -1.84387477\n",
            "  -0.65806849]\n",
            " [ 1.         -1.73202195 -1.69363332 ... -1.39753079 -1.84387477\n",
            "  -0.65793631]\n",
            " ...\n",
            " [ 1.          1.73202195  1.0337459  ...  0.22371837  1.69569214\n",
            "   2.56454459]\n",
            " [ 1.          1.7320335   1.0337459  ... -0.30881888  1.69569214\n",
            "   2.67407096]\n",
            " [ 1.          1.73204504  1.0337459  ... -0.29769538  1.69569214\n",
            "   2.67407096]]\n"
          ]
        }
      ],
      "source": [
        "print(X)"
      ]
    },
    {
      "cell_type": "code",
      "execution_count": 38,
      "metadata": {
        "id": "is_NER384kX5"
      },
      "outputs": [],
      "source": [
        "def calcularcosto(theta, X, y,):\n",
        "    # Inicializa algunos valores utiles\n",
        "    m = y.shape[0] # numero de ejemplos de entrenamiento\n",
        "\n",
        "    J = 0\n",
        "    h = sigmoid(X.dot (theta.T))\n",
        "    J = (1/m) * np.sum(-y.dot(np.log(h))-(1-y).dot(np.log(1-h)))\n",
        "\n",
        "    return J\n"
      ]
    },
    {
      "cell_type": "code",
      "execution_count": 39,
      "metadata": {
        "id": "NTic99Il4k9H"
      },
      "outputs": [],
      "source": [
        "def descensoGradiente(theta , X, y, alpha, num_iters):\n",
        "\n",
        "    # Inicializa algunos valores\n",
        "    m = y.shape[0] # numero de ejemplos de entrenamiento\n",
        "\n",
        "    # realiza una copia de theta, el cual será acutalizada por el descenso por el gradiente\n",
        "    theta = theta.copy()\n",
        "    J_history = []\n",
        "\n",
        "    for i in range(num_iters):\n",
        "        h = sigmoid(X.dot(theta.T))\n",
        "        theta = theta - (alpha/m)*(h - y).dot(X)\n",
        "\n",
        "        J_history.append(calcularcosto(theta, X, y))\n",
        "    return theta, J_history"
      ]
    },
    {
      "cell_type": "code",
      "execution_count": 54,
      "metadata": {
        "colab": {
          "base_uri": "https://localhost:8080/",
          "height": 536
        },
        "id": "2sc2AmKF4qJQ",
        "outputId": "0d4d4208-b85b-4044-fc21-8cd0b63f8437"
      },
      "outputs": [
        {
          "output_type": "stream",
          "name": "stdout",
          "text": [
            "theta calculado por el descenso por el gradiente: [ 1.40499302e+00 -1.10030548e+00  1.55898591e-02 -1.48641016e-01\n",
            " -9.12130784e-02  8.64253155e-03 -8.14328290e-02  1.17273518e-03\n",
            "  1.68369266e-03  2.06242852e+00  2.72381438e-02 -7.03834380e-02\n",
            " -1.72228531e+00]\n",
            "El valor predecido es (usando el descenso por el gradiente): 0.9907\n"
          ]
        },
        {
          "output_type": "display_data",
          "data": {
            "text/plain": [
              "<Figure size 640x480 with 1 Axes>"
            ],
            "image/png": "[encoded data removed]"
          },
          "metadata": {}
        }
      ],
      "source": [
        "# Elegir algun valor para alpha (probar varias alternativas)\n",
        "# si es grande se resta más a los thetas, si es menor alfa va cambiando poco a poco\n",
        "#se necesitan muchas iteraciones, si es grande el alfa salta mucho y no llega facilmente\n",
        "# mejores alfas = 0.1, 0.01, 0.001, 0.0001, 0.0005\n",
        "alpha = 0.01\n",
        "num_iters = 5000\n",
        "\n",
        "# inicializa theta y ejecuta el descenso por el gradiente\n",
        "theta = np.zeros(13)\n",
        "theta, J_history = descensoGradiente(theta, X, y, alpha, num_iters)\n",
        "\n",
        "# Grafica la convergencia del costo\n",
        "pyplot.plot(np.arange(len(J_history)), J_history, lw=2)\n",
        "pyplot.xlabel('Numero de iteraciones')\n",
        "pyplot.ylabel('Costo J')\n",
        "\n",
        "# Muestra los resultados del descenso por el gradiente\n",
        "print('theta calculado por el descenso por el gradiente: {:s}'.format(str(theta)))\n",
        "\n",
        "# Estimar el tipo de vuelo\n",
        "X_array = [1, -1.232045, 0.688270, 0.649163, -0.229721, -0.337897, 2.877006, 1.405790, 1.182425, 0.572576, -1.797531, -1.643875, -0.558068]\n",
        "clase= sigmoid(np.dot(theta, X_array))   # Change the order of arguments\n",
        "\n",
        "print('El tipo de vuelo predecido es (usando el descenso por el gradiente): {:.4f}'.format(clase))"
      ]
    }
  ],
  "metadata": {
    "colab": {
      "provenance": []
    },
    "kernelspec": {
      "display_name": "Python 3",
      "name": "python3"
    },
    "language_info": {
      "name": "python"
    }
  },
  "nbformat": 4,
  "nbformat_minor": 0
}