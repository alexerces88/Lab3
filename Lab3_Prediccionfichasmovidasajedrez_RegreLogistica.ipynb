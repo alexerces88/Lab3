{
  "cells": [
    {
      "cell_type": "code",
      "execution_count": 1,
      "metadata": {
        "id": "qUxgZvq33-ID"
      },
      "outputs": [],
      "source": [
        "# utilizado para manejos de directorios y rutas\n",
        "import os\n",
        "\n",
        "# Computacion vectorial y cientifica para python\n",
        "import numpy as np\n",
        "\n",
        "# Librerias para graficación (trazado de gráficos)\n",
        "from matplotlib import pyplot\n",
        "from mpl_toolkits.mplot3d import Axes3D  # Necesario para graficar superficies 3D\n",
        "\n",
        "# llama a matplotlib a embeber graficas dentro de los cuadernillos\n",
        "%matplotlib inline"
      ]
    },
    {
      "cell_type": "code",
      "execution_count": 2,
      "metadata": {
        "id": "3zeLCpwjiQCT"
      },
      "outputs": [],
      "source": [
        "import pandas as pd\n",
        "from sklearn.preprocessing import LabelEncoder\n",
        "from datetime import datetime"
      ]
    },
    {
      "cell_type": "code",
      "execution_count": 3,
      "metadata": {
        "colab": {
          "base_uri": "https://localhost:8080/"
        },
        "id": "YMRIvHxrSIV0",
        "outputId": "9574577c-67d7-45f3-dd13-b0194212614a"
      },
      "outputs": [
        {
          "output_type": "stream",
          "name": "stdout",
          "text": [
            "Mounted at /content/drive\n"
          ]
        }
      ],
      "source": [
        "from google.colab import drive\n",
        "drive.mount('/content/drive')"
      ]
    },
    {
      "cell_type": "code",
      "execution_count": 6,
      "metadata": {
        "id": "V0ZXOA-6iUmV"
      },
      "outputs": [],
      "source": [
        "#Carga de dataset\n",
        "data = pd.read_csv('/content/drive/MyDrive/Colab Notebooks/games.csv')"
      ]
    },
    {
      "cell_type": "code",
      "execution_count": 7,
      "metadata": {
        "colab": {
          "base_uri": "https://localhost:8080/"
        },
        "id": "h325dVhXicrs",
        "outputId": "9ab04098-9845-40f1-9334-a1e37942194b"
      },
      "outputs": [
        {
          "output_type": "stream",
          "name": "stdout",
          "text": [
            "             id  rated    created_at  last_move_at  turns victory_status  \\\n",
            "0      TZJHLljE  False  1.504210e+12  1.504210e+12     13      outoftime   \n",
            "1      l1NXvwaE   True  1.504130e+12  1.504130e+12     16         resign   \n",
            "2      mIICvQHh   True  1.504130e+12  1.504130e+12     61           mate   \n",
            "3      kWKvrqYL   True  1.504110e+12  1.504110e+12     61           mate   \n",
            "4      9tXo1AUZ   True  1.504030e+12  1.504030e+12     95           mate   \n",
            "...         ...    ...           ...           ...    ...            ...   \n",
            "20053  EfqH7VVH   True  1.499791e+12  1.499791e+12     24         resign   \n",
            "20054  WSJDhbPl   True  1.499698e+12  1.499699e+12     82           mate   \n",
            "20055  yrAas0Kj   True  1.499698e+12  1.499698e+12     35           mate   \n",
            "20056  b0v4tRyF   True  1.499696e+12  1.499697e+12    109         resign   \n",
            "20057  N8G2JHGG   True  1.499643e+12  1.499644e+12     78           mate   \n",
            "\n",
            "      winner increment_code       white_id  white_rating            black_id  \\\n",
            "0      white           15+2       bourgris          1500                a-00   \n",
            "1      black           5+10           a-00          1322           skinnerua   \n",
            "2      white           5+10         ischia          1496                a-00   \n",
            "3      white           20+0  daniamurashov          1439        adivanov2009   \n",
            "4      white           30+3      nik221107          1523        adivanov2009   \n",
            "...      ...            ...            ...           ...                 ...   \n",
            "20053  white          10+10        belcolt          1691            jamboger   \n",
            "20054  black           10+0       jamboger          1233  farrukhasomiddinov   \n",
            "20055  white           10+0       jamboger          1219        schaaksmurf3   \n",
            "20056  white           10+0   marcodisogno          1360            jamboger   \n",
            "20057  black           10+0       jamboger          1235               ffbob   \n",
            "\n",
            "       black_rating                                              moves  \\\n",
            "0              1191  d4 d5 c4 c6 cxd5 e6 dxe6 fxe6 Nf3 Bb4+ Nc3 Ba5...   \n",
            "1              1261  d4 Nc6 e4 e5 f4 f6 dxe5 fxe5 fxe5 Nxe5 Qd4 Nc6...   \n",
            "2              1500  e4 e5 d3 d6 Be3 c6 Be2 b5 Nd2 a5 a4 c5 axb5 Nc...   \n",
            "3              1454  d4 d5 Nf3 Bf5 Nc3 Nf6 Bf4 Ng4 e3 Nc6 Be2 Qd7 O...   \n",
            "4              1469  e4 e5 Nf3 d6 d4 Nc6 d5 Nb4 a3 Na6 Nc3 Be7 b4 N...   \n",
            "...             ...                                                ...   \n",
            "20053          1220  d4 f5 e3 e6 Nf3 Nf6 Nc3 b6 Be2 Bb7 O-O Be7 Ne5...   \n",
            "20054          1196  d4 d6 Bf4 e5 Bg3 Nf6 e3 exd4 exd4 d5 c3 Bd6 Bd...   \n",
            "20055          1286  d4 d5 Bf4 Nc6 e3 Nf6 c3 e6 Nf3 Be7 Bd3 O-O Nbd...   \n",
            "20056          1227  e4 d6 d4 Nf6 e5 dxe5 dxe5 Qxd1+ Kxd1 Nd5 c4 Nb...   \n",
            "20057          1339  d4 d5 Bf4 Na6 e3 e6 c3 Nf6 Nf3 Bd7 Nbd2 b5 Bd3...   \n",
            "\n",
            "      opening_eco                            opening_name  opening_ply  \n",
            "0             D10        Slav Defense: Exchange Variation            5  \n",
            "1             B00  Nimzowitsch Defense: Kennedy Variation            4  \n",
            "2             C20   King's Pawn Game: Leonardis Variation            3  \n",
            "3             D02  Queen's Pawn Game: Zukertort Variation            3  \n",
            "4             C41                        Philidor Defense            5  \n",
            "...           ...                                     ...          ...  \n",
            "20053         A80                           Dutch Defense            2  \n",
            "20054         A41                            Queen's Pawn            2  \n",
            "20055         D00         Queen's Pawn Game: Mason Attack            3  \n",
            "20056         B07                            Pirc Defense            4  \n",
            "20057         D00         Queen's Pawn Game: Mason Attack            3  \n",
            "\n",
            "[20058 rows x 16 columns]\n"
          ]
        }
      ],
      "source": [
        "print(data)"
      ]
    },
    {
      "cell_type": "code",
      "execution_count": 8,
      "metadata": {
        "colab": {
          "base_uri": "https://localhost:8080/"
        },
        "id": "ZoYIJwRyifh-",
        "outputId": "52f7b6cb-09bf-4dad-f477-226176bf8a58"
      },
      "outputs": [
        {
          "output_type": "stream",
          "name": "stdout",
          "text": [
            "<class 'pandas.core.frame.DataFrame'>\n",
            "RangeIndex: 20058 entries, 0 to 20057\n",
            "Data columns (total 16 columns):\n",
            " #   Column          Non-Null Count  Dtype  \n",
            "---  ------          --------------  -----  \n",
            " 0   id              20058 non-null  object \n",
            " 1   rated           20058 non-null  bool   \n",
            " 2   created_at      20058 non-null  float64\n",
            " 3   last_move_at    20058 non-null  float64\n",
            " 4   turns           20058 non-null  int64  \n",
            " 5   victory_status  20058 non-null  object \n",
            " 6   winner          20058 non-null  object \n",
            " 7   increment_code  20058 non-null  object \n",
            " 8   white_id        20058 non-null  object \n",
            " 9   white_rating    20058 non-null  int64  \n",
            " 10  black_id        20058 non-null  object \n",
            " 11  black_rating    20058 non-null  int64  \n",
            " 12  moves           20058 non-null  object \n",
            " 13  opening_eco     20058 non-null  object \n",
            " 14  opening_name    20058 non-null  object \n",
            " 15  opening_ply     20058 non-null  int64  \n",
            "dtypes: bool(1), float64(2), int64(4), object(9)\n",
            "memory usage: 2.3+ MB\n"
          ]
        }
      ],
      "source": [
        "data.info()"
      ]
    },
    {
      "cell_type": "code",
      "execution_count": 9,
      "metadata": {
        "id": "sFmWfM7Mjn9Z"
      },
      "outputs": [],
      "source": [
        "#variables categoricas\n",
        "columnas_categoricas = data.select_dtypes(include=['object']).columns\n",
        "#variables fechas\n",
        "columnas_fechas = data.select_dtypes(include=['datetime64']).columns"
      ]
    },
    {
      "cell_type": "code",
      "execution_count": 10,
      "metadata": {
        "id": "GcxRaOoqkOyD"
      },
      "outputs": [],
      "source": [
        "#Procesamiento de frases o palabras\n",
        "for columna in columnas_categoricas:\n",
        "  le = LabelEncoder()\n",
        "  data[columna] = le.fit_transform(data[columna])"
      ]
    },
    {
      "cell_type": "code",
      "execution_count": 11,
      "metadata": {
        "id": "hVuep7WXkQvA"
      },
      "outputs": [],
      "source": [
        "#Fechas a numeros\n",
        "for columna in columnas_fechas:\n",
        "  data[columna] = pd.to_numeric(data[columna].map(datetime.timestamp))"
      ]
    },
    {
      "cell_type": "code",
      "execution_count": 12,
      "metadata": {
        "colab": {
          "base_uri": "https://localhost:8080/"
        },
        "id": "vHzN_Uj0kS96",
        "outputId": "8705ac1c-31e9-4bbf-dac7-734b74e83614"
      },
      "outputs": [
        {
          "output_type": "stream",
          "name": "stdout",
          "text": [
            "          id  rated    created_at  last_move_at  turns  victory_status  \\\n",
            "0       9068  False  1.504210e+12  1.504210e+12     13               2   \n",
            "1      14512   True  1.504130e+12  1.504130e+12     16               3   \n",
            "2      14904   True  1.504130e+12  1.504130e+12     61               1   \n",
            "3      14350   True  1.504110e+12  1.504110e+12     61               1   \n",
            "4       3091   True  1.504030e+12  1.504030e+12     95               1   \n",
            "...      ...    ...           ...           ...    ...             ...   \n",
            "20053   4563   True  1.499791e+12  1.499791e+12     24               3   \n",
            "20054   9954   True  1.499698e+12  1.499699e+12     82               1   \n",
            "20055  18757   True  1.499698e+12  1.499698e+12     35               1   \n",
            "20056  11344   True  1.499696e+12  1.499697e+12    109               3   \n",
            "20057   7145   True  1.499643e+12  1.499644e+12     78               1   \n",
            "\n",
            "       winner  increment_code  white_id  white_rating  black_id  black_rating  \\\n",
            "0           2             110      1287          1500        11          1191   \n",
            "1           0             298        16          1322      7748          1261   \n",
            "2           2             298      3823          1496        11          1500   \n",
            "3           2             187      2017          1439       134          1454   \n",
            "4           2             247      6056          1523       134          1469   \n",
            "...       ...             ...       ...           ...       ...           ...   \n",
            "20053       2              21      1079          1691      4046          1220   \n",
            "20054       0              19      3921          1233      2855          1196   \n",
            "20055       2              19      3921          1219      7464          1286   \n",
            "20056       2              19      5235          1360      4046          1227   \n",
            "20057       0              19      3921          1235      2935          1339   \n",
            "\n",
            "       moves  opening_eco  opening_name  opening_ply  \n",
            "0       4524          248          1387            5  \n",
            "1       1987           71           750            4  \n",
            "2      16383          171           650            3  \n",
            "3       3770          241           992            3  \n",
            "4      15622          192           783            5  \n",
            "...      ...          ...           ...          ...  \n",
            "20053   6118           61           191            2  \n",
            "20054   5421           37           960            2  \n",
            "20055   3431          239           977            3  \n",
            "20056  11217           78           806            4  \n",
            "20057   3385          239           977            3  \n",
            "\n",
            "[20058 rows x 16 columns]\n"
          ]
        }
      ],
      "source": [
        "#resultado\n",
        "print(data)"
      ]
    },
    {
      "cell_type": "code",
      "execution_count": 13,
      "metadata": {
        "colab": {
          "base_uri": "https://localhost:8080/"
        },
        "id": "tJ9GFsACksGy",
        "outputId": "ec386891-319a-433c-eb58-a9e07c652691"
      },
      "outputs": [
        {
          "output_type": "stream",
          "name": "stdout",
          "text": [
            "<class 'pandas.core.frame.DataFrame'>\n",
            "RangeIndex: 20058 entries, 0 to 20057\n",
            "Data columns (total 16 columns):\n",
            " #   Column          Non-Null Count  Dtype  \n",
            "---  ------          --------------  -----  \n",
            " 0   id              20058 non-null  int64  \n",
            " 1   rated           20058 non-null  bool   \n",
            " 2   created_at      20058 non-null  float64\n",
            " 3   last_move_at    20058 non-null  float64\n",
            " 4   turns           20058 non-null  int64  \n",
            " 5   victory_status  20058 non-null  int64  \n",
            " 6   winner          20058 non-null  int64  \n",
            " 7   increment_code  20058 non-null  int64  \n",
            " 8   white_id        20058 non-null  int64  \n",
            " 9   white_rating    20058 non-null  int64  \n",
            " 10  black_id        20058 non-null  int64  \n",
            " 11  black_rating    20058 non-null  int64  \n",
            " 12  moves           20058 non-null  int64  \n",
            " 13  opening_eco     20058 non-null  int64  \n",
            " 14  opening_name    20058 non-null  int64  \n",
            " 15  opening_ply     20058 non-null  int64  \n",
            "dtypes: bool(1), float64(2), int64(13)\n",
            "memory usage: 2.3 MB\n"
          ]
        }
      ],
      "source": [
        "data.info()"
      ]
    },
    {
      "cell_type": "code",
      "execution_count": 22,
      "metadata": {
        "id": "YuuRUXgCwvZ_"
      },
      "outputs": [],
      "source": [
        "# Lectura de Datos\n",
        "X = data.iloc[:, :16]\n",
        "y = data.iloc[:, 15]\n",
        "m = y.size"
      ]
    },
    {
      "cell_type": "code",
      "execution_count": 23,
      "metadata": {
        "colab": {
          "base_uri": "https://localhost:8080/"
        },
        "id": "x1NBC6A6xFoC",
        "outputId": "41673ee1-ba14-4c38-81c2-4466bc992371"
      },
      "outputs": [
        {
          "output_type": "stream",
          "name": "stdout",
          "text": [
            "          id  rated    created_at  last_move_at  turns  victory_status  \\\n",
            "0       9068  False  1.504210e+12  1.504210e+12     13               2   \n",
            "1      14512   True  1.504130e+12  1.504130e+12     16               3   \n",
            "2      14904   True  1.504130e+12  1.504130e+12     61               1   \n",
            "3      14350   True  1.504110e+12  1.504110e+12     61               1   \n",
            "4       3091   True  1.504030e+12  1.504030e+12     95               1   \n",
            "...      ...    ...           ...           ...    ...             ...   \n",
            "20053   4563   True  1.499791e+12  1.499791e+12     24               3   \n",
            "20054   9954   True  1.499698e+12  1.499699e+12     82               1   \n",
            "20055  18757   True  1.499698e+12  1.499698e+12     35               1   \n",
            "20056  11344   True  1.499696e+12  1.499697e+12    109               3   \n",
            "20057   7145   True  1.499643e+12  1.499644e+12     78               1   \n",
            "\n",
            "       winner  increment_code  white_id  white_rating  black_id  black_rating  \\\n",
            "0           2             110      1287          1500        11          1191   \n",
            "1           0             298        16          1322      7748          1261   \n",
            "2           2             298      3823          1496        11          1500   \n",
            "3           2             187      2017          1439       134          1454   \n",
            "4           2             247      6056          1523       134          1469   \n",
            "...       ...             ...       ...           ...       ...           ...   \n",
            "20053       2              21      1079          1691      4046          1220   \n",
            "20054       0              19      3921          1233      2855          1196   \n",
            "20055       2              19      3921          1219      7464          1286   \n",
            "20056       2              19      5235          1360      4046          1227   \n",
            "20057       0              19      3921          1235      2935          1339   \n",
            "\n",
            "       moves  opening_eco  opening_name  opening_ply  \n",
            "0       4524          248          1387            5  \n",
            "1       1987           71           750            4  \n",
            "2      16383          171           650            3  \n",
            "3       3770          241           992            3  \n",
            "4      15622          192           783            5  \n",
            "...      ...          ...           ...          ...  \n",
            "20053   6118           61           191            2  \n",
            "20054   5421           37           960            2  \n",
            "20055   3431          239           977            3  \n",
            "20056  11217           78           806            4  \n",
            "20057   3385          239           977            3  \n",
            "\n",
            "[20058 rows x 16 columns]\n",
            "*************************\n",
            "0        5\n",
            "1        4\n",
            "2        3\n",
            "3        3\n",
            "4        5\n",
            "        ..\n",
            "20053    2\n",
            "20054    2\n",
            "20055    3\n",
            "20056    4\n",
            "20057    3\n",
            "Name: opening_ply, Length: 20058, dtype: int64\n"
          ]
        }
      ],
      "source": [
        "print(X)\n",
        "print('*'*25)\n",
        "print(y)"
      ]
    },
    {
      "cell_type": "code",
      "execution_count": 24,
      "metadata": {
        "id": "DrrFytt2gkI8"
      },
      "outputs": [],
      "source": [
        "def  featureNormalize(X):\n",
        "    X_norm = X.copy()\n",
        "    mu = np.zeros(X.shape[1])\n",
        "    sigma = np.zeros(X.shape[1])\n",
        "\n",
        "    mu = np.mean(X, axis = 0)\n",
        "    sigma = np.std(X, axis = 0)\n",
        "    X_norm = (X - mu) / sigma\n",
        "\n",
        "    return X_norm, mu, sigma\n",
        "\n",
        "# Normaliza entre -0.5 y 0.5 (revisar) porque se dan valores negativos y postivos"
      ]
    },
    {
      "cell_type": "code",
      "execution_count": 25,
      "metadata": {
        "colab": {
          "base_uri": "https://localhost:8080/"
        },
        "id": "MhHhItqc4YLy",
        "outputId": "64b3db7c-7a42-40c9-ec72-5eb1c2e8911f"
      },
      "outputs": [
        {
          "output_type": "stream",
          "name": "stdout",
          "text": [
            "          id  rated    created_at  last_move_at  turns  victory_status  \\\n",
            "0       9068  False  1.504210e+12  1.504210e+12     13               2   \n",
            "1      14512   True  1.504130e+12  1.504130e+12     16               3   \n",
            "2      14904   True  1.504130e+12  1.504130e+12     61               1   \n",
            "3      14350   True  1.504110e+12  1.504110e+12     61               1   \n",
            "4       3091   True  1.504030e+12  1.504030e+12     95               1   \n",
            "...      ...    ...           ...           ...    ...             ...   \n",
            "20053   4563   True  1.499791e+12  1.499791e+12     24               3   \n",
            "20054   9954   True  1.499698e+12  1.499699e+12     82               1   \n",
            "20055  18757   True  1.499698e+12  1.499698e+12     35               1   \n",
            "20056  11344   True  1.499696e+12  1.499697e+12    109               3   \n",
            "20057   7145   True  1.499643e+12  1.499644e+12     78               1   \n",
            "\n",
            "       winner  increment_code  white_id  white_rating  black_id  black_rating  \\\n",
            "0           2             110      1287          1500        11          1191   \n",
            "1           0             298        16          1322      7748          1261   \n",
            "2           2             298      3823          1496        11          1500   \n",
            "3           2             187      2017          1439       134          1454   \n",
            "4           2             247      6056          1523       134          1469   \n",
            "...       ...             ...       ...           ...       ...           ...   \n",
            "20053       2              21      1079          1691      4046          1220   \n",
            "20054       0              19      3921          1233      2855          1196   \n",
            "20055       2              19      3921          1219      7464          1286   \n",
            "20056       2              19      5235          1360      4046          1227   \n",
            "20057       0              19      3921          1235      2935          1339   \n",
            "\n",
            "       moves  opening_eco  opening_name  opening_ply  \n",
            "0       4524          248          1387            5  \n",
            "1       1987           71           750            4  \n",
            "2      16383          171           650            3  \n",
            "3       3770          241           992            3  \n",
            "4      15622          192           783            5  \n",
            "...      ...          ...           ...          ...  \n",
            "20053   6118           61           191            2  \n",
            "20054   5421           37           960            2  \n",
            "20055   3431          239           977            3  \n",
            "20056  11217           78           806            4  \n",
            "20057   3385          239           977            3  \n",
            "\n",
            "[20058 rows x 16 columns]\n",
            "Media calculada: id                9.543550e+03\n",
            "rated             8.054143e-01\n",
            "created_at        1.483617e+12\n",
            "last_move_at      1.483618e+12\n",
            "turns             6.046600e+01\n",
            "victory_status    2.150065e+00\n",
            "winner            1.044571e+00\n",
            "increment_code    1.248813e+02\n",
            "white_id          4.701500e+03\n",
            "white_rating      1.596632e+03\n",
            "black_id          4.663898e+03\n",
            "black_rating      1.588832e+03\n",
            "moves             9.462661e+03\n",
            "opening_eco       1.402449e+02\n",
            "opening_name      7.728609e+02\n",
            "opening_ply       4.816981e+00\n",
            "dtype: float64\n",
            "Desviación estandar calculada: id                5.519220e+03\n",
            "rated             3.958814e-01\n",
            "created_at        2.850080e+10\n",
            "last_move_at      2.850069e+10\n",
            "turns             3.356975e+01\n",
            "victory_status    1.014510e+00\n",
            "winner            9.750132e-01\n",
            "increment_code    1.247994e+02\n",
            "white_id          2.753975e+03\n",
            "white_rating      2.912461e+02\n",
            "black_id          2.731974e+03\n",
            "black_rating      2.910289e+02\n",
            "moves             5.456102e+03\n",
            "opening_eco       8.535469e+01\n",
            "opening_name      4.107949e+02\n",
            "opening_ply       2.797082e+00\n",
            "dtype: float64\n",
            "             id     rated  created_at  last_move_at     turns  victory_status  \\\n",
            "0     -0.086163 -2.034484    0.722546      0.722519 -1.413952       -0.147919   \n",
            "1      0.900209  0.491525    0.719739      0.719712 -1.324585        0.837779   \n",
            "2      0.971233  0.491525    0.719739      0.719712  0.015907       -1.133616   \n",
            "3      0.870857  0.491525    0.719038      0.719010  0.015907       -1.133616   \n",
            "4     -1.169106  0.491525    0.716231      0.716203  1.028724       -1.133616   \n",
            "...         ...       ...         ...           ...       ...             ...   \n",
            "20053 -0.902401  0.491525    0.567495      0.567478 -1.086276        0.837779   \n",
            "20054  0.074367  0.491525    0.564238      0.564236  0.641470       -1.133616   \n",
            "20055  1.669339  0.491525    0.564231      0.564208 -0.758600       -1.133616   \n",
            "20056  0.326215  0.491525    0.564169      0.564174  1.445766        0.837779   \n",
            "20057 -0.434581  0.491525    0.562311      0.562308  0.522316       -1.133616   \n",
            "\n",
            "         winner  increment_code  white_id  white_rating  black_id  \\\n",
            "0      0.979914       -0.119242 -1.239844     -0.331788 -1.703127   \n",
            "1     -1.071340        1.387175 -1.701359     -0.942955  1.128891   \n",
            "2      0.979914        1.387175 -0.318993     -0.345522 -1.703127   \n",
            "3      0.979914        0.497748 -0.974773     -0.541233 -1.658105   \n",
            "4      0.979914        0.978519  0.491835     -0.252817 -1.658105   \n",
            "...         ...             ...       ...           ...       ...   \n",
            "20053  0.979914       -0.832386 -1.315371      0.324015 -0.226173   \n",
            "20054 -1.071340       -0.848412 -0.283408     -1.248538 -0.662121   \n",
            "20055  0.979914       -0.848412 -0.283408     -1.296607  1.024937   \n",
            "20056  0.979914       -0.848412  0.193720     -0.812481 -0.226173   \n",
            "20057 -1.071340       -0.848412 -0.283408     -1.241671 -0.632839   \n",
            "\n",
            "       black_rating     moves  opening_eco  opening_name  opening_ply  \n",
            "0         -1.366985 -0.905163     1.262439      1.495002     0.065432  \n",
            "1         -1.126459 -1.370147    -0.811261     -0.055650    -0.292083  \n",
            "2         -0.305234  1.268367     0.360321     -0.299081    -0.649599  \n",
            "3         -0.463294 -1.043357     1.180428      0.533451    -0.649599  \n",
            "4         -0.411753  1.128890     0.606353      0.024682     0.065432  \n",
            "...             ...       ...          ...           ...          ...  \n",
            "20053     -1.267338 -0.613013    -0.928419     -1.416427    -1.007114  \n",
            "20054     -1.349804 -0.740760    -1.209598      0.455554    -1.007114  \n",
            "20055     -1.040557 -1.105489     1.156997      0.496937    -0.649599  \n",
            "20056     -1.243286  0.321537    -0.729250      0.080671    -0.292083  \n",
            "20057     -0.858444 -1.113920     1.156997      0.496937    -0.649599  \n",
            "\n",
            "[20058 rows x 16 columns]\n"
          ]
        }
      ],
      "source": [
        "# llama featureNormalize con los datos cargados\n",
        "X_norm, mu, sigma = featureNormalize(X)\n",
        "\n",
        "print(X)\n",
        "print('Media calculada:', mu)\n",
        "print('Desviación estandar calculada:', sigma)\n",
        "print(X_norm)"
      ]
    },
    {
      "cell_type": "code",
      "execution_count": 26,
      "metadata": {
        "id": "wYrB7D_bYl6G"
      },
      "outputs": [],
      "source": [
        "def sigmoid(z):\n",
        "  #calcula la sigmoide de una entrada z, convierte la entrada a una entrada numpy\n",
        "  z = np.array(z)\n",
        "  g = np.zeros(z.shape)\n",
        "  g = 1/(1+np.exp(-z))\n",
        "  return g\n"
      ]
    },
    {
      "cell_type": "code",
      "execution_count": 27,
      "metadata": {
        "colab": {
          "base_uri": "https://localhost:8080/"
        },
        "id": "zPzdMKh9ZA0H",
        "outputId": "0adf8dd9-7445-40da-bccb-0ff3182dc637"
      },
      "outputs": [
        {
          "output_type": "stream",
          "name": "stdout",
          "text": [
            "g( 0 ) =  0.5\n"
          ]
        }
      ],
      "source": [
        "#prueba para sigmoid\n",
        "z = 0\n",
        "g = sigmoid(z)\n",
        "print ('g(',z,') = ', g)"
      ]
    },
    {
      "cell_type": "code",
      "execution_count": 28,
      "metadata": {
        "id": "EB4cCmdm4bxJ"
      },
      "outputs": [],
      "source": [
        "# Añade el termino de interseccion a X\n",
        "m,n = X.shape\n",
        "# (Columna de unos para X0)\n",
        "X = np.concatenate([np.ones((m, 1)), X_norm], axis=1)"
      ]
    },
    {
      "cell_type": "code",
      "execution_count": 29,
      "metadata": {
        "colab": {
          "base_uri": "https://localhost:8080/"
        },
        "id": "jxdWrQDC4fcD",
        "outputId": "e3999037-55c6-436a-8d9f-21ef993a0ba1"
      },
      "outputs": [
        {
          "output_type": "stream",
          "name": "stdout",
          "text": [
            "[[ 1.         -0.08616259 -2.03448366 ...  1.26243922  1.49500186\n",
            "   0.0654322 ]\n",
            " [ 1.          0.90020874  0.49152521 ... -0.8112605  -0.05565041\n",
            "  -0.29208323]\n",
            " [ 1.          0.97123328  0.49152521 ...  0.36032126 -0.29908091\n",
            "  -0.64959865]\n",
            " ...\n",
            " [ 1.          1.66933922  0.49152521 ...  1.15699686  0.49693682\n",
            "  -0.64959865]\n",
            " [ 1.          0.32621455  0.49152521 ... -0.72924978  0.08067067\n",
            "  -0.29208323]\n",
            " [ 1.         -0.43458141  0.49152521 ...  1.15699686  0.49693682\n",
            "  -0.64959865]]\n"
          ]
        }
      ],
      "source": [
        "print(X)"
      ]
    },
    {
      "cell_type": "code",
      "execution_count": 30,
      "metadata": {
        "id": "is_NER384kX5"
      },
      "outputs": [],
      "source": [
        "def calcularcosto(theta, X, y,):\n",
        "    # Inicializa algunos valores utiles\n",
        "    m = y.shape[0] # numero de ejemplos de entrenamiento\n",
        "\n",
        "    J = 0\n",
        "    h = sigmoid(X.dot (theta.T))\n",
        "    J = (1/m) * np.sum(-y.dot(np.log(h))-(1-y).dot(np.log(1-h)))\n",
        "\n",
        "    return J\n"
      ]
    },
    {
      "cell_type": "code",
      "execution_count": 31,
      "metadata": {
        "id": "NTic99Il4k9H"
      },
      "outputs": [],
      "source": [
        "def descensoGradiente(theta , X, y, alpha, num_iters):\n",
        "\n",
        "    # Inicializa algunos valores\n",
        "    m = y.shape[0] # numero de ejemplos de entrenamiento\n",
        "\n",
        "    # realiza una copia de theta, el cual será acutalizada por el descenso por el gradiente\n",
        "    theta = theta.copy()\n",
        "    J_history = []\n",
        "\n",
        "    for i in range(num_iters):\n",
        "        h = sigmoid(X.dot(theta.T))\n",
        "        theta = theta - (alpha/m)*(h - y).dot(X)\n",
        "\n",
        "        J_history.append(calcularcosto(theta, X, y))\n",
        "    return theta, J_history"
      ]
    },
    {
      "cell_type": "code",
      "execution_count": 45,
      "metadata": {
        "colab": {
          "base_uri": "https://localhost:8080/",
          "height": 553
        },
        "id": "2sc2AmKF4qJQ",
        "outputId": "7a421323-f438-40ce-9ca7-9942cb94b460"
      },
      "outputs": [
        {
          "output_type": "stream",
          "name": "stdout",
          "text": [
            "theta calculado por el descenso por el gradiente: [ 2.06853503e+00 -2.60346677e-04 -4.33743847e-03  1.19141477e-01\n",
            "  1.19144068e-01  6.82674247e-02  8.01579863e-02  2.64104914e-02\n",
            " -5.68084080e-02  1.73431910e-02  3.51800429e-01  1.87429132e-02\n",
            "  3.23592705e-01  1.71081375e-01  6.11023426e-01  5.81152471e-02\n",
            "  1.33608639e+00]\n",
            "la cantidad de movimientos (ply) es (usando el descenso por el gradiente): 0.9200\n"
          ]
        },
        {
          "output_type": "display_data",
          "data": {
            "text/plain": [
              "<Figure size 640x480 with 1 Axes>"
            ],
            "image/png": "[encoded data removed]"
          },
          "metadata": {}
        }
      ],
      "source": [
        "# Elegir algun valor para alpha (probar varias alternativas)\n",
        "# si es grande se resta más a los thetas, si es menor alfa va cambiando poco a poco\n",
        "#se necesitan muchas iteraciones, si es grande el alfa salta mucho y no llega facilmente\n",
        "# mejores alfas = 0.1, 0.01, 0.001, 0.0001, 0.0005\n",
        "alpha = 0.0005\n",
        "num_iters = 1000\n",
        "\n",
        "# inicializa theta y ejecuta el descenso por el gradiente\n",
        "theta = np.zeros(17)\n",
        "theta, J_history = descensoGradiente(theta, X, y, alpha, num_iters)\n",
        "\n",
        "# Grafica la convergencia del costo\n",
        "pyplot.plot(np.arange(len(J_history)), J_history, lw=1)\n",
        "pyplot.xlabel('Numero de iteraciones')\n",
        "pyplot.ylabel('Costo J')\n",
        "\n",
        "# Muestra los resultados del descenso por el gradiente\n",
        "print('theta calculado por el descenso por el gradiente: {:s}'.format(str(theta)))\n",
        "\n",
        "# cantidad de movimientos (ply)\n",
        "X_array = [1, -0.066163, -1.034484, 0.922546, 0.742519, -1.113952, -0.647919, 0.779914, -0.219242, -1.239844, -0.631788, -1.603127, -1.466985, -0.805163, 1.362439, 1.695002, 0.165432]\n",
        "clase= sigmoid(np.dot(theta, X_array))   # Change the order of arguments\n",
        "\n",
        "print('la cantidad de movimientos (ply) es (usando el descenso por el gradiente): {:.4f}'.format(clase))"
      ]
    },
    {
      "cell_type": "code",
      "source": [],
      "metadata": {
        "id": "-l4ZFW1S6Aqt"
      },
      "execution_count": null,
      "outputs": []
    }
  ],
  "metadata": {
    "colab": {
      "provenance": []
    },
    "kernelspec": {
      "display_name": "Python 3",
      "name": "python3"
    },
    "language_info": {
      "name": "python"
    }
  },
  "nbformat": 4,
  "nbformat_minor": 0
}